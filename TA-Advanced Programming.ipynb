{
 "cells": [
  {
   "cell_type": "markdown",
   "id": "46edad47",
   "metadata": {},
   "source": [
    "# 1.Write a function sum-of-list that takes lists of integers as input and returns the sum of all the integers in the list "
   ]
  },
  {
   "cell_type": "code",
   "execution_count": 1,
   "id": "364b0597",
   "metadata": {},
   "outputs": [
    {
     "name": "stdout",
     "output_type": "stream",
     "text": [
      "10\n"
     ]
    }
   ],
   "source": [
    "def sum_of_list(input_list):\n",
    "    return sum(input_list)\n",
    "input_list=[1,2,3,4]\n",
    "output=sum_of_list(input_list)\n",
    "print(output)"
   ]
  },
  {
   "cell_type": "markdown",
   "id": "2a89985f",
   "metadata": {},
   "source": [
    "# 2.Create a function check_key that accepts a dictionary and a key as input. The function should rerurn True if the key exists in the dictionary and False otherwise."
   ]
  },
  {
   "cell_type": "code",
   "execution_count": 2,
   "id": "a4b4e094",
   "metadata": {},
   "outputs": [
    {
     "name": "stdout",
     "output_type": "stream",
     "text": [
      "True\n"
     ]
    }
   ],
   "source": [
    "def check_key(dict1, key):\n",
    "    return key in dict1\n",
    "dict1 = {\"Name\": \"Mobina\", \"age\": 21, \"phoneNumber\": 9199972525}\n",
    "key = \"age\"\n",
    "result = check_key(dict1, key)\n",
    "print(result)"
   ]
  },
  {
   "cell_type": "markdown",
   "id": "7d420218",
   "metadata": {},
   "source": [
    "# 3. Write a function reverse_string that takes a string as input and returns the string reversed"
   ]
  },
  {
   "cell_type": "code",
   "execution_count": 3,
   "id": "c9c096bc",
   "metadata": {},
   "outputs": [
    {
     "data": {
      "text/plain": [
       "'olleH'"
      ]
     },
     "execution_count": 3,
     "metadata": {},
     "output_type": "execute_result"
    }
   ],
   "source": [
    "def reverse_string(input_string):\n",
    "    return input_string[::-1]\n",
    "input_string=\"Hello\"\n",
    "output_string=reverse_string(input_string)\n",
    "output_string"
   ]
  }
 ],
 "metadata": {
  "kernelspec": {
   "display_name": "Python 3 (ipykernel)",
   "language": "python",
   "name": "python3"
  },
  "language_info": {
   "codemirror_mode": {
    "name": "ipython",
    "version": 3
   },
   "file_extension": ".py",
   "mimetype": "text/x-python",
   "name": "python",
   "nbconvert_exporter": "python",
   "pygments_lexer": "ipython3",
   "version": "3.11.5"
  }
 },
 "nbformat": 4,
 "nbformat_minor": 5
}
